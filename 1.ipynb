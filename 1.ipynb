{
  "nbformat": 4,
  "nbformat_minor": 0,
  "metadata": {
    "colab": {
      "provenance": [],
      "authorship_tag": "ABX9TyP+5xuGX5XqhaeFoM1H8oEb",
      "include_colab_link": true
    },
    "kernelspec": {
      "name": "python3",
      "display_name": "Python 3"
    },
    "language_info": {
      "name": "python"
    }
  },
  "cells": [
    {
      "cell_type": "markdown",
      "metadata": {
        "id": "view-in-github",
        "colab_type": "text"
      },
      "source": [
        "<a href=\"https://colab.research.google.com/github/gustavokuhl/python-notebooks/blob/main/porcos_e_cachorros_1.ipynb\" target=\"_parent\"><img src=\"https://colab.research.google.com/assets/colab-badge.svg\" alt=\"Open In Colab\"/></a>"
      ]
    },
    {
      "cell_type": "code",
      "execution_count": 4,
      "metadata": {
        "id": "_3svfWaPSrAY"
      },
      "outputs": [],
      "source": [
        "# features (1 sim, 0 não)\n",
        "# pelo longo?\n",
        "# pena curta?\n",
        "# faz auau?\n",
        "porco1 = [0, 1, 0]\n",
        "porco2 = [0, 1, 1]\n",
        "porco3 = [1, 1, 0]\n",
        "\n",
        "cachorro1 = [0, 1, 1]\n",
        "cachorro2 = [1, 0, 1]\n",
        "cachorro3 = [1, 1, 1]\n",
        "\n",
        "# material de análise\n",
        "dados = [porco1, porco2, porco3, cachorro1, cachorro2, cachorro3]\n",
        "\n",
        "# classe => valor correto do dado\n",
        "# 1 => porco, 0 => cachorro\n",
        "classes = [1, 1, 1, 0, 0, 0]\n"
      ]
    },
    {
      "cell_type": "code",
      "source": [
        "# estimador básico\n",
        "from sklearn.svm import LinearSVC\n",
        "\n",
        "model = LinearSVC()\n",
        "model.fit(dados, classes)"
      ],
      "metadata": {
        "colab": {
          "base_uri": "https://localhost:8080/"
        },
        "id": "uDlz1vC_kmIZ",
        "outputId": "0f091961-7281-432c-fec8-6f35540a61b2"
      },
      "execution_count": 6,
      "outputs": [
        {
          "output_type": "execute_result",
          "data": {
            "text/plain": [
              "LinearSVC()"
            ]
          },
          "metadata": {},
          "execution_count": 6
        }
      ]
    },
    {
      "cell_type": "code",
      "source": [
        "# adivinhe se o animal é um 1 => porco ou 0 => cachorro \n",
        "animal_misterioso = [1, 1, 1]\n",
        "# resultado da análise\n",
        "model.predict([animal_misterioso])"
      ],
      "metadata": {
        "colab": {
          "base_uri": "https://localhost:8080/"
        },
        "id": "82plcHswlFs5",
        "outputId": "e569db7d-c7d1-4db0-a96f-6ffc5e8e25f1"
      },
      "execution_count": 9,
      "outputs": [
        {
          "output_type": "execute_result",
          "data": {
            "text/plain": [
              "array([0])"
            ]
          },
          "metadata": {},
          "execution_count": 9
        }
      ]
    },
    {
      "cell_type": "code",
      "source": [
        "misterio1 = [1,1,1]\n",
        "misterio2 = [1,1,0]\n",
        "misterio3 = [0,1,1]\n",
        "\n",
        "# material de análise\n",
        "testes = [misterio1, misterio2, misterio3]\n",
        "# resultado da análise\n",
        "previsoes = model.predict(testes)\n",
        "\n",
        "# valores reais de cada misterio\n",
        "testes_classes = [0, 1, 1]\n",
        "\n",
        "# verificar tipo especial numpy.ndarray\n",
        "type(previsoes)"
      ],
      "metadata": {
        "colab": {
          "base_uri": "https://localhost:8080/"
        },
        "id": "8PCEF68ClYQF",
        "outputId": "da5937f3-2d75-4495-dbae-8183f0703923"
      },
      "execution_count": 15,
      "outputs": [
        {
          "output_type": "execute_result",
          "data": {
            "text/plain": [
              "numpy.ndarray"
            ]
          },
          "metadata": {},
          "execution_count": 15
        }
      ]
    },
    {
      "cell_type": "code",
      "source": [
        "# acertos\n",
        "previsoes == testes_classes"
      ],
      "metadata": {
        "colab": {
          "base_uri": "https://localhost:8080/"
        },
        "id": "hN-NCMRol8wA",
        "outputId": "55d72a86-f7af-4715-b833-c098e6f89b9e"
      },
      "execution_count": 13,
      "outputs": [
        {
          "output_type": "execute_result",
          "data": {
            "text/plain": [
              "array([ True,  True, False])"
            ]
          },
          "metadata": {},
          "execution_count": 13
        }
      ]
    },
    {
      "cell_type": "code",
      "source": [
        "# numpy.ndarray\n",
        "corretos = (previsoes == testes_classes).sum()\n",
        "\n",
        "total = len(testes)\n",
        "taxa_de_acerto = corretos/total\n",
        "print(\"Taxa de acerto\", taxa_de_acerto * 100)"
      ],
      "metadata": {
        "colab": {
          "base_uri": "https://localhost:8080/"
        },
        "id": "qQx9pnGJmllH",
        "outputId": "1f5c7869-fa3e-4591-eb15-428407d8cc48"
      },
      "execution_count": 18,
      "outputs": [
        {
          "output_type": "stream",
          "name": "stdout",
          "text": [
            "Taxa de acerto 66.66666666666666\n"
          ]
        }
      ]
    },
    {
      "cell_type": "code",
      "source": [
        "# accuracy == taxa de acerto\n",
        "from sklearn.metrics import accuracy_score\n",
        "\n",
        "taxa_de_acerto = accuracy_score(testes_classes, previsoes)\n",
        "print(\"Taxa de acerto\", taxa_de_acerto * 100)"
      ],
      "metadata": {
        "colab": {
          "base_uri": "https://localhost:8080/"
        },
        "id": "R8Jp1R4fnLiZ",
        "outputId": "192d7d5a-f3d9-4978-a2bc-4f952b19e605"
      },
      "execution_count": 19,
      "outputs": [
        {
          "output_type": "stream",
          "name": "stdout",
          "text": [
            "Taxa de acerto 66.66666666666666\n"
          ]
        }
      ]
    },
    {
      "cell_type": "code",
      "source": [],
      "metadata": {
        "id": "Z8v7nDf5n66d"
      },
      "execution_count": null,
      "outputs": []
    }
  ]
}
